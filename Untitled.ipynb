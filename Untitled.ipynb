{
 "cells": [
  {
   "cell_type": "markdown",
   "id": "9b16dc10",
   "metadata": {},
   "source": [
    "1. In the below elements which of them are values or an expression? eg:- values can be\n",
    "integer or string and expressions will be mathematical operators.\n",
    "*\n",
    "'hello'\n",
    "-87.8\n",
    "-\n",
    "/\n",
    "+\n",
    "6\n",
    "Ans: values-'hello',-87.8,6\n",
    "Expression-*,-,/,+\n"
   ]
  },
  {
   "cell_type": "markdown",
   "id": "92146ad1",
   "metadata": {},
   "source": [
    "2. What is the difference between string and variable?\n",
    "Ans: A variable can be any datatype which is stores a data. A variable can store everything from strings to numbers. A string is the values inside the quotes assigned to a string."
   ]
  },
  {
   "cell_type": "markdown",
   "id": "8aff8393",
   "metadata": {},
   "source": [
    "3. Describe three different data types.\n",
    "Ans:Numbers, List, Strings\n",
    "Numbers- These can be integers like 6, floating numer 6.8 and complex like 5+6j\n",
    "List- a=[6,6.8,5+6j]\n",
    "String-\"list\",\"string\",\"5+6j\"\n"
   ]
  },
  {
   "cell_type": "markdown",
   "id": "58119872",
   "metadata": {},
   "source": [
    "4. What is an expression made up of? What do all expressions do?\n",
    "Ans:xpressions are representations of value. ... For example any string is also an expressions since it represents the value of the string as well. It is made up of dta types and it executes the resluts through its value."
   ]
  },
  {
   "cell_type": "markdown",
   "id": "b43e34a5",
   "metadata": {},
   "source": [
    "5. This assignment statements, like spam = 10. What is the difference between an\n",
    "expression and a statement?\n",
    "Ans:Evaluation of an expression always Produces or returns a result value. Execution of a statement may or may not produces or displays a result value, it only does whatever the statement says."
   ]
  },
  {
   "cell_type": "markdown",
   "id": "caebb18d",
   "metadata": {},
   "source": [
    "6.After running the following code, what does the variable bacon contain?\n",
    "bacon = 22\n",
    "bacon + 1\n",
    "Ans: bacon has stored the value with number 22 so bacon is a variablewhich has stored the value."
   ]
  },
  {
   "cell_type": "markdown",
   "id": "4a5daf72",
   "metadata": {},
   "source": [
    "7. What should the values of the following two terms be?\n",
    "'spam'+'sppamspam'\n",
    "Ans-'spamspamspam'\n",
    "'spam'*3\n",
    "Ans:error. TypeError: can only concatenate str (not \"int\") to str"
   ]
  },
  {
   "cell_type": "markdown",
   "id": "fe4d08c8",
   "metadata": {},
   "source": [
    "8. Why is eggs a valid variable name while 100 is invalid?\n",
    "Ans:Variable names cannot begin with a number.The expression causes an error because 99 is an integer, and only strings can be concatenated to other strings with the + operator."
   ]
  },
  {
   "cell_type": "markdown",
   "id": "efbd22ec",
   "metadata": {},
   "source": [
    "9. What three functions can be used to get the integer, floating-point number, or string\n",
    "version of a value?\n",
    "Ans:The int() , float() , and str( ) functions will evaluate to the integer, floating-point number, and string versions of the value passed to them."
   ]
  },
  {
   "cell_type": "markdown",
   "id": "4558dad6",
   "metadata": {},
   "source": [
    "10. Why does this expression cause an error? How can you fix it?\n",
    "'I have eaten'+ 99 +'burritos.'\n",
    "Ans: I will replace the single inverted commos with double inverted commas and results will be as per below\n",
    "\"I have eaten'+ 99 +'burritos.\"\n",
    "Ans: 'I have eaten'+ 99 +'burritos.'"
   ]
  }
 ],
 "metadata": {
  "kernelspec": {
   "display_name": "Python 3",
   "language": "python",
   "name": "python3"
  },
  "language_info": {
   "codemirror_mode": {
    "name": "ipython",
    "version": 3
   },
   "file_extension": ".py",
   "mimetype": "text/x-python",
   "name": "python",
   "nbconvert_exporter": "python",
   "pygments_lexer": "ipython3",
   "version": "3.6.13"
  }
 },
 "nbformat": 4,
 "nbformat_minor": 5
}
